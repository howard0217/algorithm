{
  "nbformat": 4,
  "nbformat_minor": 0,
  "metadata": {
    "colab": {
      "name": "Untitled10.ipynb",
      "provenance": [],
      "authorship_tag": "ABX9TyPjhKSC/o1WWidPF/ApUx2J",
      "include_colab_link": true
    },
    "kernelspec": {
      "name": "python3",
      "display_name": "Python 3"
    }
  },
  "cells": [
    {
      "cell_type": "markdown",
      "metadata": {
        "id": "view-in-github",
        "colab_type": "text"
      },
      "source": [
        "<a href=\"https://colab.research.google.com/github/howard0217/algorithm/blob/master/1209DP.ipynb\" target=\"_parent\"><img src=\"https://colab.research.google.com/assets/colab-badge.svg\" alt=\"Open In Colab\"/></a>"
      ]
    },
    {
      "cell_type": "markdown",
      "metadata": {
        "id": "6iXMI-pcWWwH"
      },
      "source": [
        "鐵條切割問題"
      ]
    },
    {
      "cell_type": "code",
      "metadata": {
        "colab": {
          "base_uri": "https://localhost:8080/"
        },
        "id": "O7IDRjVsWfwT",
        "outputId": "511a2ee0-c5f4-4698-c14a-000c63fb273e"
      },
      "source": [
        "def BottomUpCutRod(p, n):\r\n",
        "    r = [0]*(n+1)         \r\n",
        "    for i in range(1, n+1):\r\n",
        "        if n == 0:\r\n",
        "            return 0\r\n",
        "        q =0\r\n",
        "        for j in range(1, i+1):\r\n",
        "            q = max(q, p[j]+r[i-j])\r\n",
        "            r[i] = q                 \r\n",
        "    return r[n],r\r\n",
        "p=[0,1,5,8,9,10,17,17,20,24,30]\r\n",
        "a=int(input(\"請輸入長度:\"))\r\n",
        "print(BottomUpCutRod(p, a))\r\n",
        "print(\"產生的陣列為長度為那個值的最高價錢\")"
      ],
      "execution_count": 18,
      "outputs": [
        {
          "output_type": "stream",
          "text": [
            "請輸入長度:7\n",
            "(18, [0, 1, 5, 8, 10, 13, 17, 18])\n",
            "產生的陣列為長度為那個值的最高價錢\n"
          ],
          "name": "stdout"
        }
      ]
    }
  ]
}