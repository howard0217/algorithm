{
  "nbformat": 4,
  "nbformat_minor": 0,
  "metadata": {
    "colab": {
      "name": "Untitled4.ipynb",
      "provenance": [],
      "authorship_tag": "ABX9TyMZJoFoB1fwUeQ33kMGyOIv",
      "include_colab_link": true
    },
    "kernelspec": {
      "name": "python3",
      "display_name": "Python 3"
    }
  },
  "cells": [
    {
      "cell_type": "markdown",
      "metadata": {
        "id": "view-in-github",
        "colab_type": "text"
      },
      "source": [
        "<a href=\"https://colab.research.google.com/github/howard0217/algorithm/blob/master/hashingsearch.ipynb\" target=\"_parent\"><img src=\"https://colab.research.google.com/assets/colab-badge.svg\" alt=\"Open In Colab\"/></a>"
      ]
    },
    {
      "cell_type": "markdown",
      "metadata": {
        "id": "bJyyzYs-Igb_"
      },
      "source": [
        "線性法"
      ]
    },
    {
      "cell_type": "code",
      "metadata": {
        "id": "Q7dEqRm8BcGk",
        "outputId": "b15b27c9-5dc2-47ba-ceba-6f43bba2b604",
        "colab": {
          "base_uri": "https://localhost:8080/",
          "height": 221
        }
      },
      "source": [
        "import random\n",
        "INDEXBOX=10     #雜湊表最大元素\n",
        "MAXNUM=7       #最大資料個數\n",
        "def print_data(data,max_number):      #列印陣列副程式\n",
        "  print('\\t',end='')\n",
        "  for i in range(max_number):\n",
        "    print('[%2d]'%data[i],end='')\n",
        "  print()\n",
        "def create_table(num,index):  #建立雜湊表副程式\n",
        "  tmp=num%INDEXBOX      #雜湊函數=資料%INDEXBOX\n",
        "  while True:\n",
        "    if index[tmp]==-1:   #如果資料對應位置是空的\n",
        "      index[tmp]=num   #則直接存入資料\n",
        "      break\n",
        "    else:\n",
        "      tmp=(tmp+1)%INDEXBOX   #否則往後找位置存放\n",
        "index=[None]*INDEXBOX\n",
        "data=[None]*MAXNUM\n",
        "print(\"原始陣列值:\")\n",
        "for i in range(MAXNUM):   #起始資料值\n",
        "  data[i]=random.randint(1,20)\n",
        "for i in range(INDEXBOX):  #清除雜湊表\n",
        "  index[i]=-1\n",
        "print_data(data,MAXNUM)  #建立雜湊表\n",
        "print(\"雜湊表內容:\")\n",
        "for i in range(MAXNUM):  #建立雜湊表\n",
        "  create_table(data[i],index)\n",
        "  print(' %2d=>'%data[i],end='')  #列印單一元素雜湊表位置\n",
        "  print_data(index,INDEXBOX)\n",
        "print(\"完成雜湊表:\")\n",
        "print_data(index,INDEXBOX)   #列印最後完成結果"
      ],
      "execution_count": null,
      "outputs": [
        {
          "output_type": "stream",
          "text": [
            "原始陣列值:\n",
            "\t[20][ 4][ 5][18][ 6][ 1][ 7]\n",
            "雜湊表內容:\n",
            " 20=>\t[20][-1][-1][-1][-1][-1][-1][-1][-1][-1]\n",
            "  4=>\t[20][-1][-1][-1][ 4][-1][-1][-1][-1][-1]\n",
            "  5=>\t[20][-1][-1][-1][ 4][ 5][-1][-1][-1][-1]\n",
            " 18=>\t[20][-1][-1][-1][ 4][ 5][-1][-1][18][-1]\n",
            "  6=>\t[20][-1][-1][-1][ 4][ 5][ 6][-1][18][-1]\n",
            "  1=>\t[20][ 1][-1][-1][ 4][ 5][ 6][-1][18][-1]\n",
            "  7=>\t[20][ 1][-1][-1][ 4][ 5][ 6][ 7][18][-1]\n",
            "完成雜湊表:\n",
            "\t[20][ 1][-1][-1][ 4][ 5][ 6][ 7][18][-1]\n"
          ],
          "name": "stdout"
        }
      ]
    },
    {
      "cell_type": "markdown",
      "metadata": {
        "id": "J4tSFwY1InY9"
      },
      "source": [
        "平方法"
      ]
    },
    {
      "cell_type": "code",
      "metadata": {
        "id": "UCcsN5HoG29H",
        "outputId": "d8f0a050-2740-4245-9f46-10f4bed86bd6",
        "colab": {
          "base_uri": "https://localhost:8080/",
          "height": 221
        }
      },
      "source": [
        "import random\n",
        "INDEXBOX=10     #雜湊表最大元素\n",
        "MAXNUM=7       #最大資料個數\n",
        "def print_data(data,max_number):      #列印陣列副程式\n",
        "  print('\\t',end='')\n",
        "  for i in range(max_number):\n",
        "    print('[%2d]'%data[i],end='')\n",
        "  print()\n",
        "def create_table(num,index):  #建立雜湊表副程式\n",
        "  tmp=num%INDEXBOX      #雜湊函數=資料%INDEXBOX\n",
        "  test=1         \n",
        "  while True:\n",
        "    if index[tmp]==-1:   #如果資料對應位置是空的\n",
        "      index[tmp]=num   #則直接存入資料\n",
        "      break\n",
        "    else:\n",
        "      tmp=num%INDEXBOX  #先歸0\n",
        "      tmp=(tmp+(test*test))%INDEXBOX   #否則往後找位置存放\n",
        "      test+=1\n",
        "index=[None]*INDEXBOX\n",
        "data=[None]*MAXNUM\n",
        "print(\"原始陣列值:\")\n",
        "for i in range(MAXNUM):   #起始資料值\n",
        "  data[i]=random.randint(1,20)\n",
        "for i in range(INDEXBOX):  #清除雜湊表\n",
        "  index[i]=-1\n",
        "print_data(data,MAXNUM)  #建立雜湊表\n",
        "print(\"雜湊表內容:\")\n",
        "for i in range(MAXNUM):  #建立雜湊表\n",
        "  create_table(data[i],index)\n",
        "  print(' %2d=>'%data[i],end='')  #列印單一元素雜湊表位置\n",
        "  print_data(index,INDEXBOX)\n",
        "print(\"完成雜湊表:\")\n",
        "print_data(index,INDEXBOX)   #列印最後完成結果"
      ],
      "execution_count": null,
      "outputs": [
        {
          "output_type": "stream",
          "text": [
            "原始陣列值:\n",
            "\t[12][ 2][17][ 1][16][13][18]\n",
            "雜湊表內容:\n",
            " 12=>\t[-1][-1][12][-1][-1][-1][-1][-1][-1][-1]\n",
            "  2=>\t[-1][-1][12][-1][ 2][-1][-1][-1][-1][-1]\n",
            " 17=>\t[-1][-1][12][-1][ 2][-1][-1][17][-1][-1]\n",
            "  1=>\t[-1][ 1][12][-1][ 2][-1][-1][17][-1][-1]\n",
            " 16=>\t[-1][ 1][12][-1][ 2][-1][16][17][-1][-1]\n",
            " 13=>\t[-1][ 1][12][13][ 2][-1][16][17][-1][-1]\n",
            " 18=>\t[-1][ 1][12][13][ 2][-1][16][17][18][-1]\n",
            "完成雜湊表:\n",
            "\t[-1][ 1][12][13][ 2][-1][16][17][18][-1]\n"
          ],
          "name": "stdout"
        }
      ]
    },
    {
      "cell_type": "markdown",
      "metadata": {
        "id": "rxN9EEy4Icwu"
      },
      "source": [
        "再雜湊法"
      ]
    },
    {
      "cell_type": "code",
      "metadata": {
        "id": "wWJDItlzIU_Q"
      },
      "source": [
        "import random\n",
        "INDEXBOX=10     #雜湊表最大元素\n",
        "MAXNUM=7       #最大資料個數\n",
        "def print_data(data,max_number):      #列印陣列副程式\n",
        "  print('\\t',end='')\n",
        "  for i in range(max_number):\n",
        "    print('[%2d]'%data[i],end='')\n",
        "  print()\n",
        "def create_table(num,index):  #建立雜湊表副程式\n",
        "  tmp=num%INDEXBOX      #雜湊函數=資料%INDEXBOX\n",
        "  while True:\n",
        "    if index[tmp]==-1:   #如果資料對應位置是空的\n",
        "      index[tmp]=num   #則直接存入資料\n",
        "      break\n",
        "    else:\n",
        "      tmp=num%INDEXBOX  #先歸0\n",
        "      tmp=(tmp+2*test)%INDEXBOX   #否則往後找位置存放\n",
        "index=[None]*INDEXBOX\n",
        "data=[None]*MAXNUM\n",
        "print(\"原始陣列值:\")\n",
        "for i in range(MAXNUM):   #起始資料值\n",
        "  data[i]=random.randint(1,20)\n",
        "for i in range(INDEXBOX):  #清除雜湊表\n",
        "  index[i]=-1\n",
        "print_data(data,MAXNUM)  #建立雜湊表\n",
        "print(\"雜湊表內容:\")\n",
        "for i in range(MAXNUM):  #建立雜湊表\n",
        "  create_table(data[i],index)\n",
        "  print(' %2d=>'%data[i],end='')  #列印單一元素雜湊表位置\n",
        "  print_data(index,INDEXBOX)\n",
        "print(\"完成雜湊表:\")\n",
        "print_data(index,INDEXBOX)   #列印最後完成結果"
      ],
      "execution_count": null,
      "outputs": []
    }
  ]
}