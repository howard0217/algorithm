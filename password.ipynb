{
  "nbformat": 4,
  "nbformat_minor": 0,
  "metadata": {
    "colab": {
      "name": "Untitled6.ipynb",
      "provenance": [],
      "authorship_tag": "ABX9TyPD0CuU6MxDy+dB7E9J4a0L",
      "include_colab_link": true
    },
    "kernelspec": {
      "name": "python3",
      "display_name": "Python 3"
    }
  },
  "cells": [
    {
      "cell_type": "markdown",
      "metadata": {
        "id": "view-in-github",
        "colab_type": "text"
      },
      "source": [
        "<a href=\"https://colab.research.google.com/github/howard0217/algorithm/blob/master/password.ipynb\" target=\"_parent\"><img src=\"https://colab.research.google.com/assets/colab-badge.svg\" alt=\"Open In Colab\"/></a>"
      ]
    },
    {
      "cell_type": "code",
      "metadata": {
        "id": "VISwbQCyLLb2",
        "outputId": "d4738841-53b2-40d8-8bcb-cbd92071f311",
        "colab": {
          "base_uri": "https://localhost:8080/"
        }
      },
      "source": [
        "from random import randint\n",
        "\n",
        "a = 1\n",
        "b = 100\n",
        "c = randint(a,b)\n",
        "\n",
        "while True:\n",
        "  ans = int(input(\"密碼介於\"+str(a)+\"-\"+str(b)+\":\\n\"))\n",
        "  if (ans>=b or ans<=a):\n",
        "    print(\"輸入要介於上下限內喔!!\")\n",
        "    continue\n",
        "  elif (ans>c):\n",
        "    b=ans\n",
        "  elif (ans<c):\n",
        "    a=ans\n",
        "  elif (ans==c):\n",
        "    print(\"答對了!\")\n",
        "    break"
      ],
      "execution_count": 2,
      "outputs": [
        {
          "output_type": "stream",
          "text": [
            "密碼介於1-100:\n",
            "13\n",
            "密碼介於13-100:\n",
            "20\n",
            "密碼介於20-100:\n",
            "50\n",
            "密碼介於50-100:\n",
            "70\n",
            "密碼介於70-100:\n",
            "80\n",
            "密碼介於80-100:\n",
            "99\n",
            "密碼介於80-99:\n",
            "85\n",
            "密碼介於80-85:\n",
            "82\n",
            "密碼介於82-85:\n",
            "84\n",
            "密碼介於82-84:\n",
            "83\n",
            "答對了!\n"
          ],
          "name": "stdout"
        }
      ]
    }
  ]
}