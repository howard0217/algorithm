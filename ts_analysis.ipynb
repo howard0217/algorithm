{
  "nbformat": 4,
  "nbformat_minor": 0,
  "metadata": {
    "colab": {
      "name": "Untitled1.ipynb",
      "provenance": [],
      "authorship_tag": "ABX9TyPksuQXcxYGcgm+iXaL74WZ",
      "include_colab_link": true
    },
    "kernelspec": {
      "name": "python3",
      "display_name": "Python 3"
    }
  },
  "cells": [
    {
      "cell_type": "markdown",
      "metadata": {
        "id": "view-in-github",
        "colab_type": "text"
      },
      "source": [
        "<a href=\"https://colab.research.google.com/github/howard0217/algorithm/blob/master/ts_analysis.ipynb\" target=\"_parent\"><img src=\"https://colab.research.google.com/assets/colab-badge.svg\" alt=\"Open In Colab\"/></a>"
      ]
    },
    {
      "cell_type": "code",
      "metadata": {
        "id": "tUo1h6x74aFv",
        "outputId": "b449396a-b5b9-44cb-e502-b6fa6f83ba4b",
        "colab": {
          "base_uri": "https://localhost:8080/"
        }
      },
      "source": [
        "a=int(input(\"請輸入西元年份:\"))\n",
        "if ((a%4) == 0 ):\n",
        "  if ( (a%400)==0 ):\n",
        "    print(\"此年是閏年\")\n",
        "  elif (a%4==0 and a%100!=0):\n",
        "    print(\"此年是閏年\")\n",
        "  else:\n",
        "    print(\"此年不是閏年\")\n",
        "else:\n",
        "  print(\"此年不是閏年\")\n",
        "  \n",
        "  \n"
      ],
      "execution_count": 34,
      "outputs": [
        {
          "output_type": "stream",
          "text": [
            "請輸入西元年份:96\n",
            "此年是閏年\n"
          ],
          "name": "stdout"
        }
      ]
    },
    {
      "cell_type": "code",
      "metadata": {
        "id": "0n_M6Fk5-mhW",
        "outputId": "1af7f623-6abe-48ad-c495-2ca3d36ba632",
        "colab": {
          "base_uri": "https://localhost:8080/"
        }
      },
      "source": [
        "a=int(input(\"請輸入西元年份:(2000-2040)\"))\n",
        "b=[2000,2004,2008,2012,2016,2020,2024,2028,2032,2036,2040]\n",
        "for i in range(0,len(b)):\n",
        "  if a==b[i]:\n",
        "    print(\"此年為閏年\")\n",
        "    break\n",
        "else:\n",
        "  print(\"此年不是閏年\")\n",
        "\n"
      ],
      "execution_count": 43,
      "outputs": [
        {
          "output_type": "stream",
          "text": [
            "請輸入西元年份:(2000-2040)2040\n",
            "此年為閏年\n"
          ],
          "name": "stdout"
        }
      ]
    }
  ]
}