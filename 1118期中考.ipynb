{
  "nbformat": 4,
  "nbformat_minor": 0,
  "metadata": {
    "colab": {
      "name": "Untitled8.ipynb",
      "provenance": [],
      "collapsed_sections": [],
      "authorship_tag": "ABX9TyNQnn/gc9P4vxCyb2cdulPU",
      "include_colab_link": true
    },
    "kernelspec": {
      "name": "python3",
      "display_name": "Python 3"
    }
  },
  "cells": [
    {
      "cell_type": "markdown",
      "metadata": {
        "id": "view-in-github",
        "colab_type": "text"
      },
      "source": [
        "<a href=\"https://colab.research.google.com/github/howard0217/algorithm/blob/master/1118%E6%9C%9F%E4%B8%AD%E8%80%83.ipynb\" target=\"_parent\"><img src=\"https://colab.research.google.com/assets/colab-badge.svg\" alt=\"Open In Colab\"/></a>"
      ]
    },
    {
      "cell_type": "code",
      "metadata": {
        "colab": {
          "base_uri": "https://localhost:8080/"
        },
        "id": "yubA7q-rvtXr",
        "outputId": "3c8e0c72-a1e1-4821-ca6a-606cdb32d8f1"
      },
      "source": [
        "def selectionsort(arr):#(大到小)\n",
        "  for i in range(0,len(arr)-1):   #把隨機選取的數字從第一個開始判斷，最後一個數字不用判斷，因為已經是最後一位數了不用比較\n",
        "    buffer1=arr[i]          #把arr第i個數的數值先存在buffer1，用來看是不是最大值\n",
        "    for j in range(i,len(arr)):  #從第i個數字開始往後開始比較\n",
        "      if buffer1<arr[j]:      #若buffer1比arr[j]小\n",
        "        buffer1=arr[j]      #把buffer1的值設為arr[j]\n",
        "        buffer2=j         #把最大值的位置存起來\n",
        "    arr[buffer2]=arr[i]        #把最大值的數跟第i個數字互換位置\n",
        "    arr[i]=buffer1          #把最大值的數跟第i個數字互換位置\n",
        "    print(\"第\",i+1,\"次 \",arr)            #印出陣列\n",
        "               \n",
        "import random\n",
        "list=[]\n",
        "for i in range(8):\n",
        "  a=random.randint(1,100)\n",
        "  list.append(a)\n",
        "print(\"原始陣列\",list)       \n",
        "selectionsort(list)           "
      ],
      "execution_count": 37,
      "outputs": [
        {
          "output_type": "stream",
          "text": [
            "原始陣列 [83, 17, 88, 79, 2, 59, 28, 59]\n",
            "第 1 次  [88, 17, 83, 79, 2, 59, 28, 59]\n",
            "第 2 次  [88, 83, 17, 79, 2, 59, 28, 59]\n",
            "第 3 次  [88, 83, 79, 17, 2, 59, 28, 59]\n",
            "第 4 次  [88, 83, 79, 59, 2, 17, 28, 59]\n",
            "第 5 次  [88, 83, 79, 59, 59, 17, 28, 2]\n",
            "第 6 次  [88, 83, 79, 59, 59, 28, 17, 2]\n",
            "第 7 次  [88, 83, 79, 59, 59, 28, 17, 2]\n"
          ],
          "name": "stdout"
        }
      ]
    },
    {
      "cell_type": "code",
      "metadata": {
        "id": "ViF7lWnSwFlU",
        "colab": {
          "base_uri": "https://localhost:8080/"
        },
        "outputId": "c97147b4-dffd-4bf2-cb55-29b2ece0ea99"
      },
      "source": [
        "def insertionsort(arr): #(小到大)\n",
        "  for i in range(0,len(arr)):         #把隨機選取的數從第一個開始判斷\n",
        "    index=i                   #設index值為i紀錄目前，用來判別邊界\n",
        "    while arr[index]<arr[index-1] and index>0:#若滿足右邊的數比左邊的數小，且還沒碰到邊界，則執行下面指令\n",
        "      buffer=arr[index]            #置換左右兩數\n",
        "      arr[index]=arr[index-1]         #置換左右兩數\n",
        "      arr[index-1]=buffer           #置換左右兩數\n",
        "      index-=1                #當前所要判定的數、邊界判定\n",
        "    print(\"第\",i+1,\"次 \",arr)                  #印出陣列\n",
        "\n",
        "import random\n",
        "list=[]\n",
        "for i in range(8):\n",
        "  a=random.randint(1,100)\n",
        "  list.append(a)\n",
        "print(\"原始陣列\",list)\n",
        "insertionsort(list)\n"
      ],
      "execution_count": 36,
      "outputs": [
        {
          "output_type": "stream",
          "text": [
            "原始陣列 [88, 98, 18, 34, 77, 88, 6, 73]\n",
            "第 1 次  [88, 98, 18, 34, 77, 88, 6, 73]\n",
            "第 2 次  [88, 98, 18, 34, 77, 88, 6, 73]\n",
            "第 3 次  [18, 88, 98, 34, 77, 88, 6, 73]\n",
            "第 4 次  [18, 34, 88, 98, 77, 88, 6, 73]\n",
            "第 5 次  [18, 34, 77, 88, 98, 88, 6, 73]\n",
            "第 6 次  [18, 34, 77, 88, 88, 98, 6, 73]\n",
            "第 7 次  [6, 18, 34, 77, 88, 88, 98, 73]\n",
            "第 8 次  [6, 18, 34, 73, 77, 88, 88, 98]\n"
          ],
          "name": "stdout"
        }
      ]
    }
  ]
}