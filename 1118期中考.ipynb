{
  "nbformat": 4,
  "nbformat_minor": 0,
  "metadata": {
    "colab": {
      "name": "Untitled8.ipynb",
      "provenance": [],
      "collapsed_sections": [],
      "authorship_tag": "ABX9TyNQnn/gc9P4vxCyb2cdulPU",
      "include_colab_link": true
    },
    "kernelspec": {
      "name": "python3",
      "display_name": "Python 3"
    }
  },
  "cells": [
    {
      "cell_type": "markdown",
      "metadata": {
        "id": "view-in-github",
        "colab_type": "text"
      },
      "source": [
        "<a href=\"https://colab.research.google.com/github/howard0217/algorithm/blob/master/1118%E6%9C%9F%E4%B8%AD%E8%80%83.ipynb\" target=\"_parent\"><img src=\"https://colab.research.google.com/assets/colab-badge.svg\" alt=\"Open In Colab\"/></a>"
      ]
    },
    {
      "cell_type": "code",
      "metadata": {
        "colab": {
          "base_uri": "https://localhost:8080/"
        },
        "id": "yubA7q-rvtXr",
        "outputId": "f3c3177d-195a-4c5d-90c9-0c2327f37fca"
      },
      "source": [
        "def selectionsort(arr):#(大到小)\n",
        "  for i in range(0,len(arr)-1):   #把隨機選取的數字從第一個開始判斷，最後一個數字不用判斷，因為已經是最後一位數了不用比較\n",
        "    buffer1=arr[i]          #把arr第i個數的數值先存在buffer1，用來看是不是最大值\n",
        "    for j in range(i,len(arr)):  #從第i個數字開始往後開始比較\n",
        "      if buffer1<arr[j]:      #若buffer1比arr[j]小\n",
        "        buffer1=arr[j]      #把buffer1的值設為arr[j]\n",
        "        buffer2=j         #把最大值的位置存起來\n",
        "    arr[buffer2]=arr[i]        #把最大值的數跟第i個數字互換位置\n",
        "    arr[i]=buffer1          #把最大值的數跟第i個數字互換位置\n",
        "    print(\"第\",i+1,\"次 \",arr)            #印出陣列\n",
        "               \n",
        "import random\n",
        "list=[]\n",
        "for i in range(8):\n",
        "  a=random.randint(1,100)\n",
        "  list.append(a)\n",
        "print(\"原始陣列\",list)       \n",
        "selectionsort(list)           "
      ],
      "execution_count": 38,
      "outputs": [
        {
          "output_type": "stream",
          "text": [
            "原始陣列 [40, 18, 47, 88, 87, 7, 44, 74]\n",
            "第 1 次  [88, 18, 47, 40, 87, 7, 44, 74]\n",
            "第 2 次  [88, 87, 47, 40, 18, 7, 44, 74]\n",
            "第 3 次  [88, 87, 74, 40, 18, 7, 44, 47]\n",
            "第 4 次  [88, 87, 74, 47, 18, 7, 44, 40]\n",
            "第 5 次  [88, 87, 74, 47, 44, 7, 18, 40]\n",
            "第 6 次  [88, 87, 74, 47, 44, 40, 18, 7]\n",
            "第 7 次  [88, 87, 74, 47, 44, 40, 18, 18]\n"
          ],
          "name": "stdout"
        }
      ]
    },
    {
      "cell_type": "code",
      "metadata": {
        "id": "ViF7lWnSwFlU",
        "colab": {
          "base_uri": "https://localhost:8080/"
        },
        "outputId": "8e36a4e4-0c63-4250-f7ab-038499468e12"
      },
      "source": [
        "def insertionsort(arr): #(小到大)\n",
        "  for i in range(0,len(arr)):         #把隨機選取的數從第一個開始判斷\n",
        "    index=i                   #設index值為i紀錄目前，用來判別邊界\n",
        "    while arr[index]<arr[index-1] and index>0:#若滿足右邊的數比左邊的數小，且還沒碰到邊界，則執行下面指令\n",
        "      buffer=arr[index]            #置換左右兩數\n",
        "      arr[index]=arr[index-1]         #置換左右兩數\n",
        "      arr[index-1]=buffer           #置換左右兩數\n",
        "      index-=1                #當前所要判定的數、邊界判定\n",
        "    print(\"第\",i+1,\"次 \",arr)                  #印出陣列\n",
        "\n",
        "import random\n",
        "list=[]\n",
        "for i in range(8):\n",
        "  a=random.randint(1,100)\n",
        "  list.append(a)\n",
        "print(\"原始陣列\",list)\n",
        "insertionsort(list)\n"
      ],
      "execution_count": 39,
      "outputs": [
        {
          "output_type": "stream",
          "text": [
            "原始陣列 [86, 35, 68, 89, 32, 5, 29, 84]\n",
            "第 1 次  [86, 35, 68, 89, 32, 5, 29, 84]\n",
            "第 2 次  [35, 86, 68, 89, 32, 5, 29, 84]\n",
            "第 3 次  [35, 68, 86, 89, 32, 5, 29, 84]\n",
            "第 4 次  [35, 68, 86, 89, 32, 5, 29, 84]\n",
            "第 5 次  [32, 35, 68, 86, 89, 5, 29, 84]\n",
            "第 6 次  [5, 32, 35, 68, 86, 89, 29, 84]\n",
            "第 7 次  [5, 29, 32, 35, 68, 86, 89, 84]\n",
            "第 8 次  [5, 29, 32, 35, 68, 84, 86, 89]\n"
          ],
          "name": "stdout"
        }
      ]
    }
  ]
}