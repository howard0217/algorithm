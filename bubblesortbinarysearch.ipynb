{
  "nbformat": 4,
  "nbformat_minor": 0,
  "metadata": {
    "colab": {
      "name": "Untitled3.ipynb",
      "provenance": [],
      "authorship_tag": "ABX9TyNqf3/J+Ig/yme4YS5L21V2",
      "include_colab_link": true
    },
    "kernelspec": {
      "name": "python3",
      "display_name": "Python 3"
    }
  },
  "cells": [
    {
      "cell_type": "markdown",
      "metadata": {
        "id": "view-in-github",
        "colab_type": "text"
      },
      "source": [
        "<a href=\"https://colab.research.google.com/github/howard0217/algorithm/blob/master/bubblesortbinarysearch.ipynb\" target=\"_parent\"><img src=\"https://colab.research.google.com/assets/colab-badge.svg\" alt=\"Open In Colab\"/></a>"
      ]
    },
    {
      "cell_type": "code",
      "metadata": {
        "id": "3UdHz4k322CX",
        "outputId": "7fecc733-c7ee-4a54-b832-b97b0c5fcfb4",
        "colab": {
          "base_uri": "https://localhost:8080/",
          "height": 34
        }
      },
      "source": [
        "def binarySearch(arr,l,r,x):\n",
        "  if r>=l:\n",
        "    mid=l+(r-l)//2\n",
        "    if arr[mid]==x:\n",
        "      return mid\n",
        "    elif arr[mid]>x:\n",
        "      return binarySearch(arr,l,mid-1,x)\n",
        "    else:\n",
        "      return binarySearch(arr,mid+1,r,x)\n",
        "  else:\n",
        "    return -1\n",
        "arr=[5,8,9,15,30]\n",
        "x=9\n",
        "\n",
        "result=binarySearch(arr,0,len(arr)-1,x)\n",
        "if result != -1:\n",
        "  print(\"元素在索引 %d\"%result)\n",
        "else:\n",
        "  print(\"陣列中找不到該元素\")\n"
      ],
      "execution_count": null,
      "outputs": [
        {
          "output_type": "stream",
          "text": [
            "元素在索引 2\n"
          ],
          "name": "stdout"
        }
      ]
    },
    {
      "cell_type": "code",
      "metadata": {
        "id": "BzmWrEbT_nJk",
        "outputId": "10c93dca-a314-4a7e-c000-1d75e4f68b04",
        "colab": {
          "base_uri": "https://localhost:8080/",
          "height": 168
        }
      },
      "source": [
        "def Bubble_Sort(datas):\n",
        "    for i in range(1, len(datas)): # \n",
        "        for j in range(len(datas)-i):   # \n",
        "            if datas[j] > datas[j+1]:   # \n",
        "                datas[j], datas[j+1] = datas[j+1], datas[j]\n",
        "    return datas\n",
        "def binarySearch(arr,l,r,x):\n",
        "  if r>=l:\n",
        "    mid=(r+l)//2\n",
        "    if arr[mid]==x:\n",
        "      return mid\n",
        "    elif arr[mid]>x:\n",
        "      return binarySearch(arr,1,mid-1,x)\n",
        "    else:\n",
        "      return binarySearch(arr,mid+1,r,x)\n",
        "  else:\n",
        "    return -1\n",
        "\n",
        "a=input(\"請輸入數值:\")\n",
        "a=a.split(\" \")\n",
        "for j, i in enumerate(a): \n",
        "  a[j]=int(i)\n",
        "print(\"5個測試值\")\n",
        "print(a)\n",
        "Bubble_Sort(a) \n",
        "print(\"排序完的結果\") \n",
        "print(a)\n",
        "\n",
        "b=int(input(\"請輸入key value:\"))\n",
        "result=binarySearch(a,0,len(a)-1,b)\n",
        "if result != -1:\n",
        "  print(\"元素在索引 %d\"%result)\n",
        "  print(\"結果:\")\n",
        "  print(a[result])\n",
        "else:\n",
        "  print(\"陣列中找不到該元素\")\n"
      ],
      "execution_count": 1,
      "outputs": [
        {
          "output_type": "stream",
          "text": [
            "請輸入數值:8 7 5 32 1\n",
            "5個測試值\n",
            "[8, 7, 5, 32, 1]\n",
            "排序完的結果\n",
            "[1, 5, 7, 8, 32]\n",
            "請輸入key value:32\n",
            "元素在索引 4\n",
            "結果:\n",
            "32\n"
          ],
          "name": "stdout"
        }
      ]
    }
  ]
}