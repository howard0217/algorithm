{
  "nbformat": 4,
  "nbformat_minor": 0,
  "metadata": {
    "colab": {
      "name": "insertionsort.ipynb",
      "provenance": [],
      "collapsed_sections": [],
      "include_colab_link": true
    },
    "kernelspec": {
      "name": "python3",
      "display_name": "Python 3"
    }
  },
  "cells": [
    {
      "cell_type": "markdown",
      "metadata": {
        "id": "view-in-github",
        "colab_type": "text"
      },
      "source": [
        "<a href=\"https://colab.research.google.com/github/howard0217/algorithm/blob/master/insertionsort0930.ipynb\" target=\"_parent\"><img src=\"https://colab.research.google.com/assets/colab-badge.svg\" alt=\"Open In Colab\"/></a>"
      ]
    },
    {
      "cell_type": "markdown",
      "metadata": {
        "id": "j95w6SLwOC0z"
      },
      "source": [
        "Insertion sort (插入排序)"
      ]
    },
    {
      "cell_type": "code",
      "metadata": {
        "id": "BxBaYEwzNj_v",
        "outputId": "e4300255-0907-4f8d-bd67-d0e3c1d8b21e",
        "colab": {
          "base_uri": "https://localhost:8080/",
          "height": 306
        }
      },
      "source": [
        "\n",
        "def Insertion_Sort(datas):\n",
        "    for i in range(1, len(datas)):      #n       \n",
        "        for j in range(i):        #n(n-1)\n",
        "            current = datas[i]     #n(n-2) \n",
        "            if current < datas[j]:   #n(n-2) \n",
        "                for k in range(i,j):  #(n+1)(n+1)\n",
        "                  print(datas)    #(n+1)(n+1)-1\n",
        "    return datas                  #1\n",
        "\n",
        "\n",
        "def insertionSort(arr):\n",
        "    for i in range(len(arr)):       #n+1\n",
        "        preIndex = i-1         #n\n",
        "        current = arr[i]        #n\n",
        "        while preIndex >= 0 and arr[preIndex] > current:   #n(n-1)\n",
        "            arr[preIndex+1] = arr[preIndex]          #n(n-2)\n",
        "            preIndex-=1                     #n(n-2) \n",
        "        arr[preIndex+1] = current                 #n(n-1)\n",
        "        print(arr)                         #n(n-1) \n",
        "    return arr                            # 1  \n",
        "\n",
        "if __name__ == '__main__':\n",
        "    import random\n",
        "    a = list(range(16))\n",
        "    random.shuffle(a)\n",
        "    b = a.copy()\n",
        "\n",
        "    arr = insertionSort(a)\n",
        "    print('---'*10)\n",
        "    Insertion_Sort(b)"
      ],
      "execution_count": null,
      "outputs": [
        {
          "output_type": "stream",
          "text": [
            "[6, 7, 1, 2, 11, 9, 14, 12, 13, 15, 5, 8, 10, 4, 3, 0]\n",
            "[6, 7, 1, 2, 11, 9, 14, 12, 13, 15, 5, 8, 10, 4, 3, 0]\n",
            "[1, 6, 7, 2, 11, 9, 14, 12, 13, 15, 5, 8, 10, 4, 3, 0]\n",
            "[1, 2, 6, 7, 11, 9, 14, 12, 13, 15, 5, 8, 10, 4, 3, 0]\n",
            "[1, 2, 6, 7, 11, 9, 14, 12, 13, 15, 5, 8, 10, 4, 3, 0]\n",
            "[1, 2, 6, 7, 9, 11, 14, 12, 13, 15, 5, 8, 10, 4, 3, 0]\n",
            "[1, 2, 6, 7, 9, 11, 14, 12, 13, 15, 5, 8, 10, 4, 3, 0]\n",
            "[1, 2, 6, 7, 9, 11, 12, 14, 13, 15, 5, 8, 10, 4, 3, 0]\n",
            "[1, 2, 6, 7, 9, 11, 12, 13, 14, 15, 5, 8, 10, 4, 3, 0]\n",
            "[1, 2, 6, 7, 9, 11, 12, 13, 14, 15, 5, 8, 10, 4, 3, 0]\n",
            "[1, 2, 5, 6, 7, 9, 11, 12, 13, 14, 15, 8, 10, 4, 3, 0]\n",
            "[1, 2, 5, 6, 7, 8, 9, 11, 12, 13, 14, 15, 10, 4, 3, 0]\n",
            "[1, 2, 5, 6, 7, 8, 9, 10, 11, 12, 13, 14, 15, 4, 3, 0]\n",
            "[1, 2, 4, 5, 6, 7, 8, 9, 10, 11, 12, 13, 14, 15, 3, 0]\n",
            "[1, 2, 3, 4, 5, 6, 7, 8, 9, 10, 11, 12, 13, 14, 15, 0]\n",
            "[0, 1, 2, 3, 4, 5, 6, 7, 8, 9, 10, 11, 12, 13, 14, 15]\n",
            "------------------------------\n"
          ],
          "name": "stdout"
        }
      ]
    }
  ]
}