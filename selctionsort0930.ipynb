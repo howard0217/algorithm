{
  "nbformat": 4,
  "nbformat_minor": 0,
  "metadata": {
    "colab": {
      "name": "selctionsort.ipynb",
      "provenance": [],
      "collapsed_sections": [],
      "include_colab_link": true
    },
    "kernelspec": {
      "name": "python3",
      "display_name": "Python 3"
    }
  },
  "cells": [
    {
      "cell_type": "markdown",
      "metadata": {
        "id": "view-in-github",
        "colab_type": "text"
      },
      "source": [
        "<a href=\"https://colab.research.google.com/github/howard0217/algorithm/blob/master/selctionsort0930.ipynb\" target=\"_parent\"><img src=\"https://colab.research.google.com/assets/colab-badge.svg\" alt=\"Open In Colab\"/></a>"
      ]
    },
    {
      "cell_type": "markdown",
      "metadata": {
        "id": "W-Z0kMaDLJOp"
      },
      "source": [
        "Selection sort (選擇排序)"
      ]
    },
    {
      "cell_type": "code",
      "metadata": {
        "id": "8tM3sv79HQ_V",
        "outputId": "96578023-094d-43ad-b030-a08d19e75b1c",
        "colab": {
          "base_uri": "https://localhost:8080/",
          "height": 561
        }
      },
      "source": [
        "def Selction_Sort(datas):\n",
        "    for i in range(len(datas)-1):                          #n\n",
        "        min = i # 第一次選從第一個數開始,第二次從第二個數開始         #n-1  \n",
        "        for j in range(i+1, len(datas)):    # 用記錄的max數與其他的比較  #(n-1)(n-1)\n",
        "            if datas[j] < datas[min]:                    #(n-1)(n-2)\n",
        "                min = j                         #\n",
        "\n",
        "        datas[i], datas[min] = datas[min], datas[i]              #n-1   \n",
        "\n",
        "        print(datas)                                #n-1\n",
        "        print('---'*10)                               #n-1\n",
        "    return datas                                    #1\n",
        "                                            #total=O(n^2)\n",
        "\n",
        "if __name__ == '__main__':\n",
        "    import random\n",
        "    a = list(range(16))\n",
        "    random.shuffle(a)\n",
        "    print(a)\n",
        "    a = Selction_Sort(a)\n",
        "    print(a)"
      ],
      "execution_count": null,
      "outputs": [
        {
          "output_type": "stream",
          "text": [
            "[0, 1, 10, 3, 15, 2, 6, 7, 13, 11, 14, 4, 9, 12, 5, 8]\n",
            "[0, 1, 10, 3, 15, 2, 6, 7, 13, 11, 14, 4, 9, 12, 5, 8]\n",
            "------------------------------\n",
            "[0, 1, 10, 3, 15, 2, 6, 7, 13, 11, 14, 4, 9, 12, 5, 8]\n",
            "------------------------------\n",
            "[0, 1, 2, 3, 15, 10, 6, 7, 13, 11, 14, 4, 9, 12, 5, 8]\n",
            "------------------------------\n",
            "[0, 1, 2, 3, 15, 10, 6, 7, 13, 11, 14, 4, 9, 12, 5, 8]\n",
            "------------------------------\n",
            "[0, 1, 2, 3, 4, 10, 6, 7, 13, 11, 14, 15, 9, 12, 5, 8]\n",
            "------------------------------\n",
            "[0, 1, 2, 3, 4, 5, 6, 7, 13, 11, 14, 15, 9, 12, 10, 8]\n",
            "------------------------------\n",
            "[0, 1, 2, 3, 4, 5, 6, 7, 13, 11, 14, 15, 9, 12, 10, 8]\n",
            "------------------------------\n",
            "[0, 1, 2, 3, 4, 5, 6, 7, 13, 11, 14, 15, 9, 12, 10, 8]\n",
            "------------------------------\n",
            "[0, 1, 2, 3, 4, 5, 6, 7, 8, 11, 14, 15, 9, 12, 10, 13]\n",
            "------------------------------\n",
            "[0, 1, 2, 3, 4, 5, 6, 7, 8, 9, 14, 15, 11, 12, 10, 13]\n",
            "------------------------------\n",
            "[0, 1, 2, 3, 4, 5, 6, 7, 8, 9, 10, 15, 11, 12, 14, 13]\n",
            "------------------------------\n",
            "[0, 1, 2, 3, 4, 5, 6, 7, 8, 9, 10, 11, 15, 12, 14, 13]\n",
            "------------------------------\n",
            "[0, 1, 2, 3, 4, 5, 6, 7, 8, 9, 10, 11, 12, 15, 14, 13]\n",
            "------------------------------\n",
            "[0, 1, 2, 3, 4, 5, 6, 7, 8, 9, 10, 11, 12, 13, 14, 15]\n",
            "------------------------------\n",
            "[0, 1, 2, 3, 4, 5, 6, 7, 8, 9, 10, 11, 12, 13, 14, 15]\n",
            "------------------------------\n",
            "[0, 1, 2, 3, 4, 5, 6, 7, 8, 9, 10, 11, 12, 13, 14, 15]\n"
          ],
          "name": "stdout"
        }
      ]
    },
    {
      "cell_type": "markdown",
      "metadata": {
        "id": "MiWPt8bALDN5"
      },
      "source": [
        "請加入註解\n"
      ]
    }
  ]
}