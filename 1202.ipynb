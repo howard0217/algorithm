{
  "nbformat": 4,
  "nbformat_minor": 0,
  "metadata": {
    "colab": {
      "name": "Untitled9.ipynb",
      "provenance": [],
      "authorship_tag": "ABX9TyNZx/rPuin4ab9upc0x06q9",
      "include_colab_link": true
    },
    "kernelspec": {
      "name": "python3",
      "display_name": "Python 3"
    }
  },
  "cells": [
    {
      "cell_type": "markdown",
      "metadata": {
        "id": "view-in-github",
        "colab_type": "text"
      },
      "source": [
        "<a href=\"https://colab.research.google.com/github/howard0217/algorithm/blob/master/1202.ipynb\" target=\"_parent\"><img src=\"https://colab.research.google.com/assets/colab-badge.svg\" alt=\"Open In Colab\"/></a>"
      ]
    },
    {
      "cell_type": "code",
      "metadata": {
        "colab": {
          "base_uri": "https://localhost:8080/"
        },
        "id": "MYK1WVhuJS_z",
        "outputId": "0ec708e0-d658-459f-f1c5-69dd00a42829"
      },
      "source": [
        "t=[25,20,5,1]\n",
        "def change(t,n):\n",
        "  m=[0 for _ in range(len(t))]  \n",
        "  for i , money in enumerate(t):\n",
        "    if n == 0:\n",
        "      break\n",
        "    else:    \n",
        "      m[i] = n // money\n",
        "      n=n % money\n",
        "      #return m,n\n",
        "      print(\"第\",i+1,\"次\",m,\"剩餘\",n,\"元\")\n",
        " \n",
        "a=int(input(\"請輸入n:\"))\n",
        "print(change(t,a))"
      ],
      "execution_count": 20,
      "outputs": [
        {
          "output_type": "stream",
          "text": [
            "請輸入n:30\n",
            "第 1 次 [1, 0, 0, 0] 剩餘 5 元\n",
            "第 2 次 [1, 0, 0, 0] 剩餘 5 元\n",
            "第 3 次 [1, 0, 1, 0] 剩餘 0 元\n",
            "None\n"
          ],
          "name": "stdout"
        }
      ]
    }
  ]
}