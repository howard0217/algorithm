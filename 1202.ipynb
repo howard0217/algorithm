{
  "nbformat": 4,
  "nbformat_minor": 0,
  "metadata": {
    "colab": {
      "name": "Untitled9.ipynb",
      "provenance": [],
      "authorship_tag": "ABX9TyOEMSVjLo/3EjlS5+GCNIsd",
      "include_colab_link": true
    },
    "kernelspec": {
      "name": "python3",
      "display_name": "Python 3"
    }
  },
  "cells": [
    {
      "cell_type": "markdown",
      "metadata": {
        "id": "view-in-github",
        "colab_type": "text"
      },
      "source": [
        "<a href=\"https://colab.research.google.com/github/howard0217/algorithm/blob/master/1202.ipynb\" target=\"_parent\"><img src=\"https://colab.research.google.com/assets/colab-badge.svg\" alt=\"Open In Colab\"/></a>"
      ]
    },
    {
      "cell_type": "markdown",
      "metadata": {
        "id": "sb3MXfttQgPg"
      },
      "source": [
        "greedy"
      ]
    },
    {
      "cell_type": "code",
      "metadata": {
        "colab": {
          "base_uri": "https://localhost:8080/"
        },
        "id": "MYK1WVhuJS_z",
        "outputId": "0ec708e0-d658-459f-f1c5-69dd00a42829"
      },
      "source": [
        "t=[25,20,5,1]\n",
        "def change(t,n):\n",
        "  m=[0 for _ in range(len(t))]  \n",
        "  for i , money in enumerate(t):\n",
        "    if n == 0:\n",
        "      break\n",
        "    else:    \n",
        "      m[i] = n // money\n",
        "      n=n % money\n",
        "      #return m,n\n",
        "      print(\"第\",i+1,\"次\",m,\"剩餘\",n,\"元\")\n",
        " \n",
        "a=int(input(\"請輸入n:\"))\n",
        "print(change(t,a))"
      ],
      "execution_count": null,
      "outputs": [
        {
          "output_type": "stream",
          "text": [
            "請輸入n:30\n",
            "第 1 次 [1, 0, 0, 0] 剩餘 5 元\n",
            "第 2 次 [1, 0, 0, 0] 剩餘 5 元\n",
            "第 3 次 [1, 0, 1, 0] 剩餘 0 元\n",
            "None\n"
          ],
          "name": "stdout"
        }
      ]
    },
    {
      "cell_type": "markdown",
      "metadata": {
        "id": "__Eytc9fQmLw"
      },
      "source": [
        "dp"
      ]
    },
    {
      "cell_type": "code",
      "metadata": {
        "colab": {
          "base_uri": "https://localhost:8080/"
        },
        "id": "6B-xtR0gQokO",
        "outputId": "f30a83fe-bf1c-4aa6-c21c-ed7e2ec5bd57"
      },
      "source": [
        "def change(t,n):\n",
        "  DP=[0]+[float(\"inf\")]*n\n",
        "  for i in range(min(t),n+1):\n",
        "    DP[i]=min(DP[i-x] for x in t if i-x>=0)+1\n",
        "  return DP[-1] if DP[-1]!=float(\"inf\") else -1\n",
        "\n",
        "n=int(input(\"請輸入:\"))\n",
        "print(change(t,n))\n",
        "\n",
        "\n"
      ],
      "execution_count": null,
      "outputs": [
        {
          "output_type": "stream",
          "text": [
            "請輸入:30\n",
            "2\n"
          ],
          "name": "stdout"
        }
      ]
    },
    {
      "cell_type": "markdown",
      "metadata": {
        "id": "uVWEH-zLWjTb"
      },
      "source": [
        "包包greedy"
      ]
    },
    {
      "cell_type": "code",
      "metadata": {
        "colab": {
          "base_uri": "https://localhost:8080/"
        },
        "id": "iGHxi04aWlp0",
        "outputId": "3b3a3c79-4fe6-490b-9444-fa90b54e216c"
      },
      "source": [
        "w=[5,1,4,3,2]\n",
        "c=[17000,35000,60000,9000,20000]\n",
        "\n",
        "def steal(weight,cost): \n",
        "  value=0  \n",
        "  bag=0\n",
        "  while True:\n",
        "    if (bag+weight[cost.index(max(cost))] < 11):     \n",
        "      bag+=weight[cost.index(max(cost))]\n",
        "      value+=max(cost)\n",
        "      weight.remove(weight[cost.index(max(cost))])\n",
        "      cost.remove(max(cost))      \n",
        "      print(\"包包重:\",bag,\"價值:\",value)     \n",
        "      if bag>=10:\n",
        "        break\n",
        "    else:\n",
        "      weight.remove(weight[cost.index(max(cost))])\n",
        "      cost.remove(max(cost))     \n",
        "      if bag>=10:\n",
        "        break\n",
        "      \n",
        "      \n",
        "      \n",
        "steal(w,c)   \n",
        "\n",
        "\n"
      ],
      "execution_count": 38,
      "outputs": [
        {
          "output_type": "stream",
          "text": [
            "包包重: 4 價值: 60000\n",
            "包包重: 5 價值: 95000\n",
            "包包重: 7 價值: 115000\n",
            "包包重: 10 價值: 124000\n"
          ],
          "name": "stdout"
        }
      ]
    }
  ]
}