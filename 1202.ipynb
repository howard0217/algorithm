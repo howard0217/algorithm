{
  "nbformat": 4,
  "nbformat_minor": 0,
  "metadata": {
    "colab": {
      "name": "Untitled9.ipynb",
      "provenance": [],
      "authorship_tag": "ABX9TyOny9Cvhp1aGyDY9CR5fPhD",
      "include_colab_link": true
    },
    "kernelspec": {
      "name": "python3",
      "display_name": "Python 3"
    }
  },
  "cells": [
    {
      "cell_type": "markdown",
      "metadata": {
        "id": "view-in-github",
        "colab_type": "text"
      },
      "source": [
        "<a href=\"https://colab.research.google.com/github/howard0217/algorithm/blob/master/1202.ipynb\" target=\"_parent\"><img src=\"https://colab.research.google.com/assets/colab-badge.svg\" alt=\"Open In Colab\"/></a>"
      ]
    },
    {
      "cell_type": "markdown",
      "metadata": {
        "id": "sb3MXfttQgPg"
      },
      "source": [
        "greedy"
      ]
    },
    {
      "cell_type": "code",
      "metadata": {
        "colab": {
          "base_uri": "https://localhost:8080/"
        },
        "id": "MYK1WVhuJS_z",
        "outputId": "0ec708e0-d658-459f-f1c5-69dd00a42829"
      },
      "source": [
        "t=[25,20,5,1]\n",
        "def change(t,n):\n",
        "  m=[0 for _ in range(len(t))]  \n",
        "  for i , money in enumerate(t):\n",
        "    if n == 0:\n",
        "      break\n",
        "    else:    \n",
        "      m[i] = n // money\n",
        "      n=n % money\n",
        "      #return m,n\n",
        "      print(\"第\",i+1,\"次\",m,\"剩餘\",n,\"元\")\n",
        " \n",
        "a=int(input(\"請輸入n:\"))\n",
        "print(change(t,a))"
      ],
      "execution_count": null,
      "outputs": [
        {
          "output_type": "stream",
          "text": [
            "請輸入n:30\n",
            "第 1 次 [1, 0, 0, 0] 剩餘 5 元\n",
            "第 2 次 [1, 0, 0, 0] 剩餘 5 元\n",
            "第 3 次 [1, 0, 1, 0] 剩餘 0 元\n",
            "None\n"
          ],
          "name": "stdout"
        }
      ]
    },
    {
      "cell_type": "markdown",
      "metadata": {
        "id": "__Eytc9fQmLw"
      },
      "source": [
        "dp"
      ]
    },
    {
      "cell_type": "code",
      "metadata": {
        "colab": {
          "base_uri": "https://localhost:8080/"
        },
        "id": "6B-xtR0gQokO",
        "outputId": "f30a83fe-bf1c-4aa6-c21c-ed7e2ec5bd57"
      },
      "source": [
        "def change(t,n):\n",
        "  DP=[0]+[float(\"inf\")]*n\n",
        "  for i in range(min(t),n+1):\n",
        "    DP[i]=min(DP[i-x] for x in t if i-x>=0)+1\n",
        "  return DP[-1] if DP[-1]!=float(\"inf\") else -1\n",
        "\n",
        "n=int(input(\"請輸入:\"))\n",
        "print(change(t,n))\n",
        "\n",
        "\n"
      ],
      "execution_count": null,
      "outputs": [
        {
          "output_type": "stream",
          "text": [
            "請輸入:30\n",
            "2\n"
          ],
          "name": "stdout"
        }
      ]
    },
    {
      "cell_type": "markdown",
      "metadata": {
        "id": "uVWEH-zLWjTb"
      },
      "source": [
        "包包greedy"
      ]
    },
    {
      "cell_type": "code",
      "metadata": {
        "colab": {
          "base_uri": "https://localhost:8080/"
        },
        "id": "iGHxi04aWlp0",
        "outputId": "81f8b041-28fe-48aa-80bf-fd4ce014c921"
      },
      "source": [
        "w=[5,1,4,3,2]\n",
        "c=[17000,35000,60000,9000,20000]\n",
        "\n",
        "def steal(weight,cost): \n",
        "  value=0  \n",
        "  bag=0\n",
        "  while True:\n",
        "    if (bag+weight[cost.index(max(cost))] < 11):#判斷包包加上還未偷走的東西中價格最高的重量有沒有大於10     \n",
        "      bag+=weight[cost.index(max(cost))]       #把還未偷走的東西中價格最高的重量加到包包內\n",
        "      value+=max(cost)                #把還未偷走的東西中價格最高的加到value\n",
        "      weight.remove(weight[cost.index(max(cost))])  #清除該重量\n",
        "      cost.remove(max(cost))              #清除該價格\n",
        "      print(\"包包重:\",bag,\"價值:\",value)     \n",
        "      if bag>=10:\n",
        "        break\n",
        "    else:\n",
        "      weight.remove(weight[cost.index(max(cost))])  #把加上去超過10的清除\n",
        "      cost.remove(max(cost))              #把加上去超過10的清除\n",
        "      if bag>=10:\n",
        "        break\n",
        "      \n",
        "      \n",
        "      \n",
        "steal(w,c)   \n",
        "\n",
        "\n"
      ],
      "execution_count": null,
      "outputs": [
        {
          "output_type": "stream",
          "text": [
            "包包重: 4 價值: 60000\n",
            "包包重: 5 價值: 95000\n",
            "包包重: 7 價值: 115000\n",
            "包包重: 10 價值: 124000\n"
          ],
          "name": "stdout"
        }
      ]
    },
    {
      "cell_type": "markdown",
      "metadata": {
        "id": "k_TKdsQhCbzn"
      },
      "source": [
        "包包dp"
      ]
    },
    {
      "cell_type": "code",
      "metadata": {
        "id": "vEMJ_ZYwCebK",
        "outputId": "3786ed80-b878-4608-b4ed-a4c7f45964ce",
        "colab": {
          "base_uri": "https://localhost:8080/"
        }
      },
      "source": [
        "def dp(W, wt, cost, a): \n",
        "  K = [[0 for x in range(W + 1)] for x in range(a + 1)] \n",
        "  for i in range(a + 1): \n",
        "    for w in range(W + 1): \n",
        "      if i == 0 or w == 0: \n",
        "        K[i][w] = 0\n",
        "      elif wt[i-1] <= w: \n",
        "        K[i][w] = max(val[i-1] + K[i-1][w-wt[i-1]],  K[i-1][w])\n",
        "      else: \n",
        "        K[i][w] = K[i-1][w]\n",
        "    print(\"第\",i+1,\"次篩選：\",\"目前價值\",K[i][w])\n",
        "  return K[a][W]\n",
        "cost = [17000,35000,60000,9000,20000] \n",
        "wt = [5,1,4,3,2] \n",
        "W = 10\n",
        "a = len(cost) \n",
        "print(\"最佳價值\",dp(W, wt, cost, a))"
      ],
      "execution_count": 4,
      "outputs": [
        {
          "output_type": "stream",
          "text": [
            "第 1 次篩選： 目前價值 0\n",
            "第 2 次篩選： 目前價值 17000\n",
            "第 3 次篩選： 目前價值 52000\n",
            "第 4 次篩選： 目前價值 112000\n",
            "第 5 次篩選： 目前價值 112000\n",
            "第 6 次篩選： 目前價值 124000\n",
            "最佳價值 124000\n"
          ],
          "name": "stdout"
        }
      ]
    }
  ]
}