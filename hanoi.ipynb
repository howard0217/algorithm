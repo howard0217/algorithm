{
  "nbformat": 4,
  "nbformat_minor": 0,
  "metadata": {
    "colab": {
      "name": "Untitled5.ipynb",
      "provenance": [],
      "authorship_tag": "ABX9TyNyaJJvkFBB+CP30PZn0G+R",
      "include_colab_link": true
    },
    "kernelspec": {
      "name": "python3",
      "display_name": "Python 3"
    }
  },
  "cells": [
    {
      "cell_type": "markdown",
      "metadata": {
        "id": "view-in-github",
        "colab_type": "text"
      },
      "source": [
        "<a href=\"https://colab.research.google.com/github/howard0217/algorithm/blob/master/hanoi.ipynb\" target=\"_parent\"><img src=\"https://colab.research.google.com/assets/colab-badge.svg\" alt=\"Open In Colab\"/></a>"
      ]
    },
    {
      "cell_type": "code",
      "metadata": {
        "id": "gh2hRpQsEPCf",
        "outputId": "6e991a73-7c1c-4089-ee3a-d26f6d53638f",
        "colab": {
          "base_uri": "https://localhost:8080/"
        }
      },
      "source": [
        "def hanoi(n,a,b,c):\n",
        "  if n==1:\n",
        "    print(\"把盤子從\",a,\"移到\",c)\n",
        "  else:\n",
        "    hanoi(n-1,a,c,b)\n",
        "    hanoi(1,a,b,c)\n",
        "    hanoi(n-1,b,a,c)\n",
        "hanoi(3,'a','b','c')"
      ],
      "execution_count": 4,
      "outputs": [
        {
          "output_type": "stream",
          "text": [
            "把盤子從 a 移到 c\n",
            "把盤子從 a 移到 b\n",
            "把盤子從 c 移到 b\n",
            "把盤子從 a 移到 c\n",
            "把盤子從 b 移到 a\n",
            "把盤子從 b 移到 c\n",
            "把盤子從 a 移到 c\n"
          ],
          "name": "stdout"
        }
      ]
    },
    {
      "cell_type": "code",
      "metadata": {
        "id": "hCJBCwJvHzg1"
      },
      "source": [
        "\n",
        "\n"
      ],
      "execution_count": null,
      "outputs": []
    },
    {
      "cell_type": "code",
      "metadata": {
        "id": "cTMRrBzfHg1b"
      },
      "source": [
        ""
      ],
      "execution_count": null,
      "outputs": []
    },
    {
      "cell_type": "markdown",
      "metadata": {
        "id": "fbJ82fYPEzy-"
      },
      "source": [
        ""
      ]
    }
  ]
}